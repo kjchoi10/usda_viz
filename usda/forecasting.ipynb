{
 "cells": [
  {
   "cell_type": "code",
   "execution_count": 14,
   "metadata": {},
   "outputs": [
    {
     "name": "stdout",
     "output_type": "stream",
     "text": [
      "   Commodity_Description  Calendar_Year Attribute_Description     Value  \\\n",
      "3          Meat, Chicken           2018               Exports   60841.0   \n",
      "12         Meat, Chicken           2019               Exports     148.0   \n",
      "21         Meat, Chicken           2020               Exports   12239.0   \n",
      "30         Meat, Chicken           2021               Exports   46631.0   \n",
      "39         Meat, Chicken           2022               Exports  115823.0   \n",
      "\n",
      "                    Origin  \n",
      "3   United States, America  \n",
      "12  United States, America  \n",
      "21  United States, America  \n",
      "30  United States, America  \n",
      "39  United States, America  \n"
     ]
    }
   ],
   "source": [
    "import pandas as pd\n",
    "import transform\n",
    "\n",
    "# Load your data\n",
    "df = data=transform.Transform().livestock\n",
    "df = df[df['Commodity_Description'] == 'Animal Numbers, Cattle']\n",
    "df = transform.Transform().transform_commodity_by_export(data=df)\n"
   ]
  },
  {
   "cell_type": "code",
   "execution_count": 11,
   "metadata": {},
   "outputs": [
    {
     "data": {
      "text/html": [
       "<div>\n",
       "<style scoped>\n",
       "    .dataframe tbody tr th:only-of-type {\n",
       "        vertical-align: middle;\n",
       "    }\n",
       "\n",
       "    .dataframe tbody tr th {\n",
       "        vertical-align: top;\n",
       "    }\n",
       "\n",
       "    .dataframe thead th {\n",
       "        text-align: right;\n",
       "    }\n",
       "</style>\n",
       "<table border=\"1\" class=\"dataframe\">\n",
       "  <thead>\n",
       "    <tr style=\"text-align: right;\">\n",
       "      <th></th>\n",
       "      <th>Commodity_Description</th>\n",
       "      <th>Calendar_Year</th>\n",
       "      <th>Attribute_Description</th>\n",
       "      <th>Value</th>\n",
       "      <th>Origin</th>\n",
       "    </tr>\n",
       "  </thead>\n",
       "  <tbody>\n",
       "    <tr>\n",
       "      <th>2079</th>\n",
       "      <td>Meat, Chicken</td>\n",
       "      <td>2018</td>\n",
       "      <td>Exports</td>\n",
       "      <td>60841.0</td>\n",
       "      <td>United States, America</td>\n",
       "    </tr>\n",
       "    <tr>\n",
       "      <th>2088</th>\n",
       "      <td>Meat, Chicken</td>\n",
       "      <td>2019</td>\n",
       "      <td>Exports</td>\n",
       "      <td>148.0</td>\n",
       "      <td>United States, America</td>\n",
       "    </tr>\n",
       "    <tr>\n",
       "      <th>2097</th>\n",
       "      <td>Meat, Chicken</td>\n",
       "      <td>2020</td>\n",
       "      <td>Exports</td>\n",
       "      <td>12239.0</td>\n",
       "      <td>United States, America</td>\n",
       "    </tr>\n",
       "    <tr>\n",
       "      <th>2106</th>\n",
       "      <td>Meat, Chicken</td>\n",
       "      <td>2021</td>\n",
       "      <td>Exports</td>\n",
       "      <td>46631.0</td>\n",
       "      <td>United States, America</td>\n",
       "    </tr>\n",
       "    <tr>\n",
       "      <th>2115</th>\n",
       "      <td>Meat, Chicken</td>\n",
       "      <td>2022</td>\n",
       "      <td>Exports</td>\n",
       "      <td>115823.0</td>\n",
       "      <td>United States, America</td>\n",
       "    </tr>\n",
       "  </tbody>\n",
       "</table>\n",
       "</div>"
      ],
      "text/plain": [
       "     Commodity_Description  Calendar_Year Attribute_Description     Value  \\\n",
       "2079         Meat, Chicken           2018               Exports   60841.0   \n",
       "2088         Meat, Chicken           2019               Exports     148.0   \n",
       "2097         Meat, Chicken           2020               Exports   12239.0   \n",
       "2106         Meat, Chicken           2021               Exports   46631.0   \n",
       "2115         Meat, Chicken           2022               Exports  115823.0   \n",
       "\n",
       "                      Origin  \n",
       "2079  United States, America  \n",
       "2088  United States, America  \n",
       "2097  United States, America  \n",
       "2106  United States, America  \n",
       "2115  United States, America  "
      ]
     },
     "execution_count": 11,
     "metadata": {},
     "output_type": "execute_result"
    }
   ],
   "source": [
    "df.head()"
   ]
  },
  {
   "cell_type": "code",
   "execution_count": 12,
   "metadata": {},
   "outputs": [
    {
     "name": "stderr",
     "output_type": "stream",
     "text": [
      "19:30:32 - cmdstanpy - INFO - Chain [1] start processing\n",
      "19:30:32 - cmdstanpy - INFO - Chain [1] done processing\n",
      "/opt/miniconda3/lib/python3.9/site-packages/prophet/forecaster.py:1854: FutureWarning: 'Y' is deprecated and will be removed in a future version, please use 'YE' instead.\n",
      "  dates = pd.date_range(\n"
     ]
    }
   ],
   "source": [
    "import matplotlib.pyplot as plt\n",
    "from prophet import Prophet\n",
    "\n",
    "# Rename columns to fit Prophet's requirements\n",
    "df.rename(columns={'Calendar_Year': 'ds', 'Value': 'y'}, inplace=True)\n",
    "# Ensure the date column is parsed as yearly data\n",
    "df['ds'] = pd.to_datetime(df['ds'], format='%Y')\n",
    "\n",
    "# Initialize and fit the Prophet model\n",
    "model = Prophet()\n",
    "model.fit(df)\n",
    "\n",
    "# Create a DataFrame for future dates (including historical dates)\n",
    "future = model.make_future_dataframe(periods=0, freq='Y')\n",
    "\n",
    "# Make predictions\n",
    "forecast = model.predict(future)\n",
    "\n",
    "# Extract the trend component\n",
    "trend = forecast[['ds', 'trend']]\n",
    "\n",
    "# Calculate residuals\n",
    "df['trend'] = trend['trend']\n",
    "df['residual'] = df['y'] - df['trend']"
   ]
  },
  {
   "cell_type": "code",
   "execution_count": 13,
   "metadata": {},
   "outputs": [
    {
     "data": {
      "text/html": [
       "<div>\n",
       "<style scoped>\n",
       "    .dataframe tbody tr th:only-of-type {\n",
       "        vertical-align: middle;\n",
       "    }\n",
       "\n",
       "    .dataframe tbody tr th {\n",
       "        vertical-align: top;\n",
       "    }\n",
       "\n",
       "    .dataframe thead th {\n",
       "        text-align: right;\n",
       "    }\n",
       "</style>\n",
       "<table border=\"1\" class=\"dataframe\">\n",
       "  <thead>\n",
       "    <tr style=\"text-align: right;\">\n",
       "      <th></th>\n",
       "      <th>Commodity_Description</th>\n",
       "      <th>ds</th>\n",
       "      <th>Attribute_Description</th>\n",
       "      <th>y</th>\n",
       "      <th>Origin</th>\n",
       "      <th>trend</th>\n",
       "      <th>residual</th>\n",
       "    </tr>\n",
       "  </thead>\n",
       "  <tbody>\n",
       "    <tr>\n",
       "      <th>2079</th>\n",
       "      <td>Meat, Chicken</td>\n",
       "      <td>2018-01-01</td>\n",
       "      <td>Exports</td>\n",
       "      <td>60841.0</td>\n",
       "      <td>United States, America</td>\n",
       "      <td>NaN</td>\n",
       "      <td>NaN</td>\n",
       "    </tr>\n",
       "    <tr>\n",
       "      <th>2088</th>\n",
       "      <td>Meat, Chicken</td>\n",
       "      <td>2019-01-01</td>\n",
       "      <td>Exports</td>\n",
       "      <td>148.0</td>\n",
       "      <td>United States, America</td>\n",
       "      <td>NaN</td>\n",
       "      <td>NaN</td>\n",
       "    </tr>\n",
       "    <tr>\n",
       "      <th>2097</th>\n",
       "      <td>Meat, Chicken</td>\n",
       "      <td>2020-01-01</td>\n",
       "      <td>Exports</td>\n",
       "      <td>12239.0</td>\n",
       "      <td>United States, America</td>\n",
       "      <td>NaN</td>\n",
       "      <td>NaN</td>\n",
       "    </tr>\n",
       "    <tr>\n",
       "      <th>2106</th>\n",
       "      <td>Meat, Chicken</td>\n",
       "      <td>2021-01-01</td>\n",
       "      <td>Exports</td>\n",
       "      <td>46631.0</td>\n",
       "      <td>United States, America</td>\n",
       "      <td>NaN</td>\n",
       "      <td>NaN</td>\n",
       "    </tr>\n",
       "    <tr>\n",
       "      <th>2115</th>\n",
       "      <td>Meat, Chicken</td>\n",
       "      <td>2022-01-01</td>\n",
       "      <td>Exports</td>\n",
       "      <td>115823.0</td>\n",
       "      <td>United States, America</td>\n",
       "      <td>NaN</td>\n",
       "      <td>NaN</td>\n",
       "    </tr>\n",
       "  </tbody>\n",
       "</table>\n",
       "</div>"
      ],
      "text/plain": [
       "     Commodity_Description         ds Attribute_Description         y  \\\n",
       "2079         Meat, Chicken 2018-01-01               Exports   60841.0   \n",
       "2088         Meat, Chicken 2019-01-01               Exports     148.0   \n",
       "2097         Meat, Chicken 2020-01-01               Exports   12239.0   \n",
       "2106         Meat, Chicken 2021-01-01               Exports   46631.0   \n",
       "2115         Meat, Chicken 2022-01-01               Exports  115823.0   \n",
       "\n",
       "                      Origin  trend  residual  \n",
       "2079  United States, America    NaN       NaN  \n",
       "2088  United States, America    NaN       NaN  \n",
       "2097  United States, America    NaN       NaN  \n",
       "2106  United States, America    NaN       NaN  \n",
       "2115  United States, America    NaN       NaN  "
      ]
     },
     "execution_count": 13,
     "metadata": {},
     "output_type": "execute_result"
    }
   ],
   "source": [
    "df.head()"
   ]
  },
  {
   "cell_type": "markdown",
   "metadata": {},
   "source": [
    "Step 2: Identify Trends\n",
    "To identify periods of increasing or decreasing trends, you can calculate the first derivative of the trend component. This will give you the rate of change, which you can use to identify periods of increase or decrease."
   ]
  },
  {
   "cell_type": "code",
   "execution_count": 4,
   "metadata": {},
   "outputs": [],
   "source": [
    "# Calculate the first derivative of the trend\n",
    "trend['trend_diff'] = trend['trend'].diff()\n",
    "\n",
    "# Identify periods of increase or decrease\n",
    "trend['trend_direction'] = trend['trend_diff'].apply(lambda x: 'Increase' if x > 0 else 'Decrease' if x < 0 else 'No Change')\n",
    "\n",
    "# Identify consecutive periods of increase or decrease\n",
    "trend_periods = trend.groupby((trend['trend_direction'] != trend['trend_direction'].shift()).cumsum()).agg({\n",
    "    'ds': ['first', 'last'],\n",
    "    'trend_direction': 'first'\n",
    "}).reset_index(drop=True)\n",
    "\n",
    "# Rename columns\n",
    "trend_periods.columns = ['Start', 'End', 'Direction']"
   ]
  },
  {
   "cell_type": "markdown",
   "metadata": {},
   "source": [
    "Step 3: Identify Consistency and Volatility\n",
    "To identify periods of consistency and volatility, calculate the rolling standard deviation of the residuals."
   ]
  },
  {
   "cell_type": "code",
   "execution_count": 5,
   "metadata": {},
   "outputs": [],
   "source": [
    "# Calculate rolling standard deviation of residuals\n",
    "df['rolling_std'] = df['residual'].rolling(window=12).std()  # 12-month rolling window\n",
    "\n",
    "# Define thresholds for high and low volatility\n",
    "high_volatility_threshold = df['rolling_std'].quantile(0.75)  # 75th percentile\n",
    "low_volatility_threshold = df['rolling_std'].quantile(0.25)   # 25th percentile\n",
    "\n",
    "# Identify periods of high and low volatility\n",
    "df['volatility'] = df['rolling_std'].apply(lambda x: 'High' if x > high_volatility_threshold else 'Low' if x < low_volatility_threshold else 'Medium')\n",
    "\n",
    "# Identify consecutive periods of high or low volatility\n",
    "volatility_periods = df.groupby((df['volatility'] != df['volatility'].shift()).cumsum()).agg({\n",
    "    'ds': ['first', 'last'],\n",
    "    'volatility': 'first'\n",
    "}).reset_index(drop=True)\n",
    "\n",
    "# Rename columns\n",
    "volatility_periods.columns = ['Start', 'End', 'Volatility']"
   ]
  },
  {
   "cell_type": "markdown",
   "metadata": {},
   "source": [
    "Combine Results\n",
    "Combine the results of trends and volatility analysis to get a comprehensive view of the time points when these events occur."
   ]
  },
  {
   "cell_type": "code",
   "execution_count": 6,
   "metadata": {},
   "outputs": [
    {
     "name": "stdout",
     "output_type": "stream",
     "text": [
      "                          Start                           End  Direction  \\\n",
      "0 1970-01-01 00:00:00.000002018 1970-01-01 00:00:00.000002018  No Change   \n",
      "0 1970-01-01 00:00:00.000002018 1970-01-01 00:00:00.000002022        NaN   \n",
      "1 1970-01-01 00:00:00.000002019 1970-01-01 00:00:00.000002022   Increase   \n",
      "\n",
      "  Volatility  \n",
      "0        NaN  \n",
      "0     Medium  \n",
      "1        NaN  \n"
     ]
    }
   ],
   "source": [
    "# Combine trend and volatility periods\n",
    "analysis_results = pd.concat([trend_periods, volatility_periods], axis=0).sort_values(by='Start')\n",
    "\n",
    "# Print results\n",
    "print(analysis_results)\n"
   ]
  },
  {
   "cell_type": "markdown",
   "metadata": {},
   "source": [
    "Explanation\n",
    "Trend Analysis: The trend component is analyzed to identify periods of increasing or decreasing trends.\n",
    "Volatility Analysis: The rolling standard deviation of the residuals is calculated to identify periods of high and low volatility.\n",
    "Combine Results: The results from both analyses are combined and sorted by the start date to give a comprehensive view of when trends, consistency, and volatility occur.\n",
    "This approach allows you to pinpoint specific time points (years) when certain patterns or behaviors are present in your time series data."
   ]
  }
 ],
 "metadata": {
  "kernelspec": {
   "display_name": "venv",
   "language": "python",
   "name": "python3"
  },
  "language_info": {
   "codemirror_mode": {
    "name": "ipython",
    "version": 3
   },
   "file_extension": ".py",
   "mimetype": "text/x-python",
   "name": "python",
   "nbconvert_exporter": "python",
   "pygments_lexer": "ipython3",
   "version": "3.9.12"
  }
 },
 "nbformat": 4,
 "nbformat_minor": 2
}
